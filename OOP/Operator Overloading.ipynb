{
 "cells": [
  {
   "cell_type": "markdown",
   "id": "0c2de389",
   "metadata": {},
   "source": [
    "## Polymorphism"
   ]
  },
  {
   "cell_type": "code",
   "execution_count": 1,
   "id": "fc94b924",
   "metadata": {},
   "outputs": [
    {
     "data": {
      "text/plain": [
       "6"
      ]
     },
     "execution_count": 1,
     "metadata": {},
     "output_type": "execute_result"
    }
   ],
   "source": [
    "3 + 3"
   ]
  },
  {
   "cell_type": "code",
   "execution_count": 2,
   "id": "cf866d73",
   "metadata": {},
   "outputs": [
    {
     "data": {
      "text/plain": [
       "'hihi'"
      ]
     },
     "execution_count": 2,
     "metadata": {},
     "output_type": "execute_result"
    }
   ],
   "source": [
    "\"hi\" + \"hi\""
   ]
  },
  {
   "cell_type": "code",
   "execution_count": 3,
   "id": "259d684e",
   "metadata": {},
   "outputs": [
    {
     "data": {
      "text/plain": [
       "[1, 2, 4, 4, 2, 1]"
      ]
     },
     "execution_count": 3,
     "metadata": {},
     "output_type": "execute_result"
    }
   ],
   "source": [
    "[1, 2, 4] + [4, 2, 1]"
   ]
  },
  {
   "cell_type": "code",
   "execution_count": 4,
   "id": "5d5f0283",
   "metadata": {},
   "outputs": [],
   "source": [
    "class Account:\n",
    "    def __init__(self, name, bal):\n",
    "        self.name = name\n",
    "        self.bal = bal"
   ]
  },
  {
   "cell_type": "code",
   "execution_count": 5,
   "id": "d3179d12",
   "metadata": {},
   "outputs": [],
   "source": [
    "ram = Account(\"Ram\", 393828)"
   ]
  },
  {
   "cell_type": "code",
   "execution_count": 6,
   "id": "55601b83",
   "metadata": {},
   "outputs": [],
   "source": [
    "kshitiz = Account(\"Kshitiz\", 3873838)"
   ]
  },
  {
   "cell_type": "code",
   "execution_count": 7,
   "id": "f4c4543b",
   "metadata": {},
   "outputs": [
    {
     "ename": "TypeError",
     "evalue": "unsupported operand type(s) for +: 'Account' and 'Account'",
     "output_type": "error",
     "traceback": [
      "\u001b[1;31m---------------------------------------------------------------------------\u001b[0m",
      "\u001b[1;31mTypeError\u001b[0m                                 Traceback (most recent call last)",
      "Cell \u001b[1;32mIn[7], line 1\u001b[0m\n\u001b[1;32m----> 1\u001b[0m \u001b[43mram\u001b[49m\u001b[43m \u001b[49m\u001b[38;5;241;43m+\u001b[39;49m\u001b[43m \u001b[49m\u001b[43mkshitiz\u001b[49m\n",
      "\u001b[1;31mTypeError\u001b[0m: unsupported operand type(s) for +: 'Account' and 'Account'"
     ]
    }
   ],
   "source": [
    "ram + kshitiz"
   ]
  },
  {
   "cell_type": "code",
   "execution_count": 8,
   "id": "73f01e0a",
   "metadata": {},
   "outputs": [],
   "source": [
    "class Account:\n",
    "    def __init__(self, name, bal):\n",
    "        self.name = name\n",
    "        self.bal = bal\n",
    "    def __add__(self, otherobj):\n",
    "        return self.bal + otherobj.bal"
   ]
  },
  {
   "cell_type": "code",
   "execution_count": 12,
   "id": "4d376f9f",
   "metadata": {},
   "outputs": [],
   "source": [
    "ac1 = Account(\"Ram\", 393828)\n",
    "ac2 = Account(\"Kshitiz\", 3873838)"
   ]
  },
  {
   "cell_type": "code",
   "execution_count": 14,
   "id": "03dd2104",
   "metadata": {},
   "outputs": [
    {
     "data": {
      "text/plain": [
       "4267666"
      ]
     },
     "execution_count": 14,
     "metadata": {},
     "output_type": "execute_result"
    }
   ],
   "source": [
    "ac1 + ac2"
   ]
  },
  {
   "cell_type": "code",
   "execution_count": 15,
   "id": "fa8f6b06",
   "metadata": {},
   "outputs": [
    {
     "ename": "AttributeError",
     "evalue": "'int' object has no attribute 'bal'",
     "output_type": "error",
     "traceback": [
      "\u001b[1;31m---------------------------------------------------------------------------\u001b[0m",
      "\u001b[1;31mAttributeError\u001b[0m                            Traceback (most recent call last)",
      "Cell \u001b[1;32mIn[15], line 1\u001b[0m\n\u001b[1;32m----> 1\u001b[0m \u001b[43mac1\u001b[49m\u001b[43m \u001b[49m\u001b[38;5;241;43m+\u001b[39;49m\u001b[43m \u001b[49m\u001b[38;5;241;43m5\u001b[39;49m\n",
      "Cell \u001b[1;32mIn[8], line 6\u001b[0m, in \u001b[0;36mAccount.__add__\u001b[1;34m(self, otherobj)\u001b[0m\n\u001b[0;32m      5\u001b[0m \u001b[38;5;28;01mdef\u001b[39;00m \u001b[38;5;21m__add__\u001b[39m(\u001b[38;5;28mself\u001b[39m, otherobj):\n\u001b[1;32m----> 6\u001b[0m     \u001b[38;5;28;01mreturn\u001b[39;00m \u001b[38;5;28mself\u001b[39m\u001b[38;5;241m.\u001b[39mbal \u001b[38;5;241m+\u001b[39m \u001b[43motherobj\u001b[49m\u001b[38;5;241;43m.\u001b[39;49m\u001b[43mbal\u001b[49m\n",
      "\u001b[1;31mAttributeError\u001b[0m: 'int' object has no attribute 'bal'"
     ]
    }
   ],
   "source": [
    "ac1 + 5"
   ]
  },
  {
   "cell_type": "code",
   "execution_count": 16,
   "id": "5263f4ac",
   "metadata": {},
   "outputs": [
    {
     "ename": "TypeError",
     "evalue": "unsupported operand type(s) for -: 'Account' and 'Account'",
     "output_type": "error",
     "traceback": [
      "\u001b[1;31m---------------------------------------------------------------------------\u001b[0m",
      "\u001b[1;31mTypeError\u001b[0m                                 Traceback (most recent call last)",
      "Cell \u001b[1;32mIn[16], line 1\u001b[0m\n\u001b[1;32m----> 1\u001b[0m \u001b[43mac1\u001b[49m\u001b[43m \u001b[49m\u001b[38;5;241;43m-\u001b[39;49m\u001b[43m \u001b[49m\u001b[43mac2\u001b[49m\n",
      "\u001b[1;31mTypeError\u001b[0m: unsupported operand type(s) for -: 'Account' and 'Account'"
     ]
    }
   ],
   "source": [
    "ac1 - ac2"
   ]
  },
  {
   "cell_type": "markdown",
   "id": "a01bee2b",
   "metadata": {},
   "source": [
    "## Function Overriding"
   ]
  },
  {
   "cell_type": "code",
   "execution_count": 31,
   "id": "06df9d68",
   "metadata": {},
   "outputs": [],
   "source": [
    "class Parent:\n",
    "    def display(self):\n",
    "        print(\"Parent ko display\")\n",
    "class Child(Parent):\n",
    "    pass\n",
    "#     def __init__(self):\n",
    "#         super().__init__()\n",
    "#     def display():\n",
    "#         print(\"Child ko display\")"
   ]
  },
  {
   "cell_type": "code",
   "execution_count": 32,
   "id": "7ffc8e9e",
   "metadata": {},
   "outputs": [],
   "source": [
    "c = Child()"
   ]
  },
  {
   "cell_type": "code",
   "execution_count": 33,
   "id": "23361dd1",
   "metadata": {},
   "outputs": [
    {
     "name": "stdout",
     "output_type": "stream",
     "text": [
      "Parent ko display\n"
     ]
    }
   ],
   "source": [
    "c.display()"
   ]
  },
  {
   "cell_type": "code",
   "execution_count": 34,
   "id": "45380842",
   "metadata": {},
   "outputs": [],
   "source": [
    "class Animal:\n",
    "    def display(self):\n",
    "        print(\"Animal\")\n",
    "class Human(Animal):\n",
    "    pass"
   ]
  },
  {
   "cell_type": "code",
   "execution_count": 35,
   "id": "a4e796c4",
   "metadata": {},
   "outputs": [],
   "source": [
    "me = Human()"
   ]
  },
  {
   "cell_type": "code",
   "execution_count": 36,
   "id": "96f4f241",
   "metadata": {},
   "outputs": [
    {
     "name": "stdout",
     "output_type": "stream",
     "text": [
      "Animal\n"
     ]
    }
   ],
   "source": [
    "me.display()"
   ]
  },
  {
   "cell_type": "code",
   "execution_count": null,
   "id": "cdfcb5b5",
   "metadata": {},
   "outputs": [],
   "source": []
  }
 ],
 "metadata": {
  "kernelspec": {
   "display_name": "Python 3 (ipykernel)",
   "language": "python",
   "name": "python3"
  },
  "language_info": {
   "codemirror_mode": {
    "name": "ipython",
    "version": 3
   },
   "file_extension": ".py",
   "mimetype": "text/x-python",
   "name": "python",
   "nbconvert_exporter": "python",
   "pygments_lexer": "ipython3",
   "version": "3.11.1"
  }
 },
 "nbformat": 4,
 "nbformat_minor": 5
}
