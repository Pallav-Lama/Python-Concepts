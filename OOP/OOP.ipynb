{
 "cells": [
  {
   "cell_type": "markdown",
   "id": "a5cea94e",
   "metadata": {},
   "source": [
    "## Class and Object"
   ]
  },
  {
   "cell_type": "code",
   "execution_count": 1,
   "id": "fd225745",
   "metadata": {},
   "outputs": [],
   "source": [
    "#creating empty class\n",
    "class Person: #blueprint to create object\n",
    "    pass"
   ]
  },
  {
   "cell_type": "code",
   "execution_count": 2,
   "id": "f1b067e2",
   "metadata": {},
   "outputs": [],
   "source": [
    "obj = Person() #object is instance of the class"
   ]
  },
  {
   "cell_type": "code",
   "execution_count": 3,
   "id": "815bbce0",
   "metadata": {},
   "outputs": [
    {
     "data": {
      "text/plain": [
       "__main__.Person"
      ]
     },
     "execution_count": 3,
     "metadata": {},
     "output_type": "execute_result"
    }
   ],
   "source": [
    "type(obj)"
   ]
  },
  {
   "cell_type": "code",
   "execution_count": 4,
   "id": "7107f1f7",
   "metadata": {},
   "outputs": [],
   "source": [
    "# __main__ is th entry point of python"
   ]
  },
  {
   "cell_type": "code",
   "execution_count": 6,
   "id": "ae70b088",
   "metadata": {},
   "outputs": [
    {
     "name": "stdout",
     "output_type": "stream",
     "text": [
      "<class '__main__.Person'>\n"
     ]
    }
   ],
   "source": [
    "if __name__ == \"__main__\":\n",
    "    obj = Person()\n",
    "    print(type(obj))"
   ]
  },
  {
   "cell_type": "code",
   "execution_count": 7,
   "id": "f441e55f",
   "metadata": {},
   "outputs": [
    {
     "data": {
      "text/plain": [
       "'__main__'"
      ]
     },
     "execution_count": 7,
     "metadata": {},
     "output_type": "execute_result"
    }
   ],
   "source": [
    "__name__"
   ]
  },
  {
   "cell_type": "markdown",
   "id": "6c8964c3",
   "metadata": {},
   "source": [
    "# class and object attribute "
   ]
  },
  {
   "cell_type": "markdown",
   "id": "21b7e975",
   "metadata": {},
   "source": [
    "### class attribute"
   ]
  },
  {
   "cell_type": "code",
   "execution_count": 8,
   "id": "7723131d",
   "metadata": {},
   "outputs": [],
   "source": [
    "class Mammal:\n",
    "    has_hair = True #class attribute"
   ]
  },
  {
   "cell_type": "code",
   "execution_count": 9,
   "id": "4a2065df",
   "metadata": {},
   "outputs": [],
   "source": [
    "human = Mammal()"
   ]
  },
  {
   "cell_type": "code",
   "execution_count": 10,
   "id": "1ceeff92",
   "metadata": {},
   "outputs": [
    {
     "data": {
      "text/plain": [
       "True"
      ]
     },
     "execution_count": 10,
     "metadata": {},
     "output_type": "execute_result"
    }
   ],
   "source": [
    "human.has_hair #class attribute is same for all object"
   ]
  },
  {
   "cell_type": "code",
   "execution_count": 11,
   "id": "e317edf3",
   "metadata": {},
   "outputs": [],
   "source": [
    "cow = Mammal()"
   ]
  },
  {
   "cell_type": "code",
   "execution_count": 12,
   "id": "cc106a83",
   "metadata": {},
   "outputs": [
    {
     "data": {
      "text/plain": [
       "True"
      ]
     },
     "execution_count": 12,
     "metadata": {},
     "output_type": "execute_result"
    }
   ],
   "source": [
    "cow.has_hair #class attribute is same for all object"
   ]
  },
  {
   "cell_type": "markdown",
   "id": "c7934d7a",
   "metadata": {},
   "source": [
    "### object attribute"
   ]
  },
  {
   "cell_type": "code",
   "execution_count": 14,
   "id": "eb5692fe",
   "metadata": {},
   "outputs": [],
   "source": [
    "class Mammal:\n",
    "    has_hair = True\n",
    "    \n",
    "    def __init__(self, legs): #attribute initializer, __new__ creates the object\n",
    "        self.legs = legs #initialize object attribute using init method"
   ]
  },
  {
   "cell_type": "code",
   "execution_count": 15,
   "id": "82504bea",
   "metadata": {},
   "outputs": [],
   "source": [
    "cow = Mammal(4)"
   ]
  },
  {
   "cell_type": "code",
   "execution_count": 16,
   "id": "4b287743",
   "metadata": {},
   "outputs": [
    {
     "data": {
      "text/plain": [
       "True"
      ]
     },
     "execution_count": 16,
     "metadata": {},
     "output_type": "execute_result"
    }
   ],
   "source": [
    "cow.has_hair #class attribute is same for all object"
   ]
  },
  {
   "cell_type": "code",
   "execution_count": 17,
   "id": "1ec76802",
   "metadata": {},
   "outputs": [
    {
     "data": {
      "text/plain": [
       "4"
      ]
     },
     "execution_count": 17,
     "metadata": {},
     "output_type": "execute_result"
    }
   ],
   "source": [
    "cow.legs #object attribute is not same for all object"
   ]
  },
  {
   "cell_type": "code",
   "execution_count": 18,
   "id": "58140c6e",
   "metadata": {},
   "outputs": [],
   "source": [
    "human = Mammal(2)"
   ]
  },
  {
   "cell_type": "code",
   "execution_count": 19,
   "id": "17eddd68",
   "metadata": {},
   "outputs": [
    {
     "data": {
      "text/plain": [
       "True"
      ]
     },
     "execution_count": 19,
     "metadata": {},
     "output_type": "execute_result"
    }
   ],
   "source": [
    "human.has_hair #class attribute is same for all object"
   ]
  },
  {
   "cell_type": "code",
   "execution_count": 20,
   "id": "8cf3160a",
   "metadata": {},
   "outputs": [
    {
     "data": {
      "text/plain": [
       "2"
      ]
     },
     "execution_count": 20,
     "metadata": {},
     "output_type": "execute_result"
    }
   ],
   "source": [
    "human.legs #object attribute is not same for all object"
   ]
  },
  {
   "cell_type": "code",
   "execution_count": 25,
   "id": "5eb09ffe",
   "metadata": {},
   "outputs": [],
   "source": [
    "class Mammal:\n",
    "    has_hair = True\n",
    "    \n",
    "    def __init__(self, legs):\n",
    "        print(type(self))\n",
    "        print(self)\n",
    "        self.legs = legs #initialize object attribute using init method"
   ]
  },
  {
   "cell_type": "code",
   "execution_count": 26,
   "id": "7fd88e85",
   "metadata": {},
   "outputs": [
    {
     "name": "stdout",
     "output_type": "stream",
     "text": [
      "<class '__main__.Mammal'>\n",
      "<__main__.Mammal object at 0x000002EA245C4C90>\n"
     ]
    }
   ],
   "source": [
    "cow = Mammal(4)"
   ]
  },
  {
   "cell_type": "code",
   "execution_count": 31,
   "id": "5d305b91",
   "metadata": {},
   "outputs": [],
   "source": [
    "class Reptile:\n",
    "    lays_eggs = True\n",
    "    \n",
    "    def __init__(self, has_legs):\n",
    "        self.has_legs = has_legs"
   ]
  },
  {
   "cell_type": "code",
   "execution_count": 28,
   "id": "e23447fb",
   "metadata": {},
   "outputs": [],
   "source": [
    "snake = Reptile(False)"
   ]
  },
  {
   "cell_type": "code",
   "execution_count": 30,
   "id": "0012123d",
   "metadata": {},
   "outputs": [
    {
     "data": {
      "text/plain": [
       "True"
      ]
     },
     "execution_count": 30,
     "metadata": {},
     "output_type": "execute_result"
    }
   ],
   "source": [
    "snake.lays_eggs"
   ]
  },
  {
   "cell_type": "code",
   "execution_count": 32,
   "id": "68d9fd05",
   "metadata": {},
   "outputs": [
    {
     "data": {
      "text/plain": [
       "False"
      ]
     },
     "execution_count": 32,
     "metadata": {},
     "output_type": "execute_result"
    }
   ],
   "source": [
    "snake.has_legs"
   ]
  },
  {
   "cell_type": "code",
   "execution_count": 36,
   "id": "2fc4f774",
   "metadata": {},
   "outputs": [],
   "source": [
    "lizard = Reptile(True)"
   ]
  },
  {
   "cell_type": "code",
   "execution_count": 37,
   "id": "a7fe3b26",
   "metadata": {},
   "outputs": [
    {
     "data": {
      "text/plain": [
       "True"
      ]
     },
     "execution_count": 37,
     "metadata": {},
     "output_type": "execute_result"
    }
   ],
   "source": [
    "lizard.lays_eggs"
   ]
  },
  {
   "cell_type": "code",
   "execution_count": 38,
   "id": "f36f2945",
   "metadata": {},
   "outputs": [
    {
     "data": {
      "text/plain": [
       "True"
      ]
     },
     "execution_count": 38,
     "metadata": {},
     "output_type": "execute_result"
    }
   ],
   "source": [
    "lizard.has_legs"
   ]
  },
  {
   "cell_type": "markdown",
   "id": "131ab733",
   "metadata": {},
   "source": [
    "## Class Method"
   ]
  },
  {
   "cell_type": "code",
   "execution_count": 53,
   "id": "23aad96d",
   "metadata": {},
   "outputs": [],
   "source": [
    "class Reptiles:\n",
    "    def __init__(self, lay_eggs, no_of_legs):\n",
    "        self.lay_eggs = lay_eggs\n",
    "        self.no_of_legs = no_of_legs\n",
    "        \n",
    "    def display(self):\n",
    "        if self.lay_eggs:\n",
    "            print(f\"The object lays eggs and has {self.no_of_legs} no. of legs\")\n",
    "        else:\n",
    "            print(f\"The object does not lay eggs and has {self.no_of_legs} no. of legs\")"
   ]
  },
  {
   "cell_type": "code",
   "execution_count": 54,
   "id": "deeb9296",
   "metadata": {},
   "outputs": [],
   "source": [
    "snake = Reptiles(True, None)"
   ]
  },
  {
   "cell_type": "code",
   "execution_count": null,
   "id": "b28fdb6d",
   "metadata": {},
   "outputs": [],
   "source": [
    "snake.lay_eggs #attribute"
   ]
  },
  {
   "cell_type": "code",
   "execution_count": 55,
   "id": "845cde88",
   "metadata": {},
   "outputs": [
    {
     "name": "stdout",
     "output_type": "stream",
     "text": [
      "The object lays eggs and has None no. of legs\n"
     ]
    }
   ],
   "source": [
    "snake.display() #method uses '()'"
   ]
  },
  {
   "cell_type": "code",
   "execution_count": 56,
   "id": "8ce2a808",
   "metadata": {},
   "outputs": [],
   "source": [
    "lizard = Reptiles(True, 4)"
   ]
  },
  {
   "cell_type": "code",
   "execution_count": 57,
   "id": "70c05565",
   "metadata": {},
   "outputs": [
    {
     "name": "stdout",
     "output_type": "stream",
     "text": [
      "The object lays eggs and has 4 no. of legs\n"
     ]
    }
   ],
   "source": [
    "lizard.display()"
   ]
  },
  {
   "cell_type": "code",
   "execution_count": 61,
   "id": "0dabcb9f",
   "metadata": {},
   "outputs": [],
   "source": [
    "class Person:\n",
    "    def __init__(self, name, age):\n",
    "        self.name = name\n",
    "        self.age = age\n",
    "    \n",
    "    def mymethod(self):\n",
    "        print(f\"Hello my name is {self.name}, and I am {self.age} years old\")"
   ]
  },
  {
   "cell_type": "code",
   "execution_count": 62,
   "id": "1239c1fc",
   "metadata": {},
   "outputs": [],
   "source": [
    "obj1 = Person(\"Pallav\", 22)"
   ]
  },
  {
   "cell_type": "code",
   "execution_count": 63,
   "id": "53d18b83",
   "metadata": {},
   "outputs": [
    {
     "name": "stdout",
     "output_type": "stream",
     "text": [
      "Hello my name is Pallav, and I am 22 years old\n"
     ]
    }
   ],
   "source": [
    "obj1.mymethod()"
   ]
  },
  {
   "cell_type": "code",
   "execution_count": null,
   "id": "de50022c",
   "metadata": {},
   "outputs": [],
   "source": []
  }
 ],
 "metadata": {
  "kernelspec": {
   "display_name": "Python 3 (ipykernel)",
   "language": "python",
   "name": "python3"
  },
  "language_info": {
   "codemirror_mode": {
    "name": "ipython",
    "version": 3
   },
   "file_extension": ".py",
   "mimetype": "text/x-python",
   "name": "python",
   "nbconvert_exporter": "python",
   "pygments_lexer": "ipython3",
   "version": "3.11.1"
  }
 },
 "nbformat": 4,
 "nbformat_minor": 5
}
