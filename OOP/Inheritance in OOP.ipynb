{
 "cells": [
  {
   "cell_type": "markdown",
   "id": "72a37c9d",
   "metadata": {},
   "source": [
    "## Single Inheritance"
   ]
  },
  {
   "cell_type": "code",
   "execution_count": 1,
   "id": "b227dbc9",
   "metadata": {},
   "outputs": [],
   "source": [
    "class Computer:\n",
    "    def __init__(self, model):\n",
    "        self.model = model"
   ]
  },
  {
   "cell_type": "code",
   "execution_count": 2,
   "id": "332f0143",
   "metadata": {},
   "outputs": [],
   "source": [
    "class Mobile:\n",
    "    def __init__(self, flash):\n",
    "        self.flash = flash"
   ]
  },
  {
   "cell_type": "code",
   "execution_count": 4,
   "id": "f559a1da",
   "metadata": {},
   "outputs": [],
   "source": [
    "m = Mobile(flash = True)"
   ]
  },
  {
   "cell_type": "code",
   "execution_count": 5,
   "id": "8bba37a9",
   "metadata": {},
   "outputs": [
    {
     "ename": "AttributeError",
     "evalue": "'Mobile' object has no attribute 'model'",
     "output_type": "error",
     "traceback": [
      "\u001b[1;31m---------------------------------------------------------------------------\u001b[0m",
      "\u001b[1;31mAttributeError\u001b[0m                            Traceback (most recent call last)",
      "Cell \u001b[1;32mIn[5], line 1\u001b[0m\n\u001b[1;32m----> 1\u001b[0m \u001b[43mm\u001b[49m\u001b[38;5;241;43m.\u001b[39;49m\u001b[43mmodel\u001b[49m\n",
      "\u001b[1;31mAttributeError\u001b[0m: 'Mobile' object has no attribute 'model'"
     ]
    }
   ],
   "source": [
    "m.model #cannot call property of other's class "
   ]
  },
  {
   "cell_type": "code",
   "execution_count": 17,
   "id": "bd8ddd25",
   "metadata": {},
   "outputs": [],
   "source": [
    "class Computer:\n",
    "    def __init__(self, model):\n",
    "        self.model = model\n",
    "        \n",
    "class Mobile(Computer):\n",
    "    def __init__(self, flash, model):\n",
    "        self.flash = flash\n",
    "        super().__init__(model) #super method le inherit garney ho"
   ]
  },
  {
   "cell_type": "code",
   "execution_count": 18,
   "id": "35a46be0",
   "metadata": {},
   "outputs": [],
   "source": [
    "m = Mobile(flash = True, model = 'Iphone')"
   ]
  },
  {
   "cell_type": "code",
   "execution_count": 13,
   "id": "393c43b5",
   "metadata": {},
   "outputs": [
    {
     "data": {
      "text/plain": [
       "'Iphone'"
      ]
     },
     "execution_count": 13,
     "metadata": {},
     "output_type": "execute_result"
    }
   ],
   "source": [
    "m.model"
   ]
  },
  {
   "cell_type": "code",
   "execution_count": 14,
   "id": "62d038b6",
   "metadata": {},
   "outputs": [
    {
     "data": {
      "text/plain": [
       "True"
      ]
     },
     "execution_count": 14,
     "metadata": {},
     "output_type": "execute_result"
    }
   ],
   "source": [
    "m.flash"
   ]
  },
  {
   "cell_type": "markdown",
   "id": "4f20ddc4",
   "metadata": {},
   "source": [
    "## Multiple Inheritance"
   ]
  },
  {
   "cell_type": "code",
   "execution_count": 22,
   "id": "b98bb7d5",
   "metadata": {},
   "outputs": [],
   "source": [
    "class Father:\n",
    "    def __init__(self, f_name):\n",
    "        self.f_name = f_name\n",
    "class Mother:\n",
    "    def __init__(self, m_name):\n",
    "        self.m_name = m_name\n",
    "class Child(Father, Mother):\n",
    "    def __init__(self, name, f_name, m_name):\n",
    "        self.name = name\n",
    "        Father.__init__(self, f_name)\n",
    "        Mother.__init__(self, m_name)"
   ]
  },
  {
   "cell_type": "code",
   "execution_count": 23,
   "id": "4aaa2a40",
   "metadata": {},
   "outputs": [],
   "source": [
    "c = Child(name = 'Love Kush', f_name = \"Ram\", m_name = \"Sita\")"
   ]
  },
  {
   "cell_type": "code",
   "execution_count": 24,
   "id": "26a6f732",
   "metadata": {},
   "outputs": [
    {
     "data": {
      "text/plain": [
       "'Love Kush'"
      ]
     },
     "execution_count": 24,
     "metadata": {},
     "output_type": "execute_result"
    }
   ],
   "source": [
    "c.name"
   ]
  },
  {
   "cell_type": "code",
   "execution_count": 25,
   "id": "40122daf",
   "metadata": {},
   "outputs": [
    {
     "data": {
      "text/plain": [
       "'Ram'"
      ]
     },
     "execution_count": 25,
     "metadata": {},
     "output_type": "execute_result"
    }
   ],
   "source": [
    "c.f_name"
   ]
  },
  {
   "cell_type": "code",
   "execution_count": 26,
   "id": "d7687587",
   "metadata": {},
   "outputs": [
    {
     "data": {
      "text/plain": [
       "'Sita'"
      ]
     },
     "execution_count": 26,
     "metadata": {},
     "output_type": "execute_result"
    }
   ],
   "source": [
    "c.m_name"
   ]
  },
  {
   "cell_type": "markdown",
   "id": "aeac004a",
   "metadata": {},
   "source": [
    "## MultiLevel Inheritance"
   ]
  },
  {
   "cell_type": "code",
   "execution_count": 27,
   "id": "84d244dd",
   "metadata": {},
   "outputs": [],
   "source": [
    "class A:\n",
    "    def __init__(self, grandfather):\n",
    "        self.grandfather = grandfather\n",
    "class B(A):\n",
    "    def __init__(self, father, grandfather):\n",
    "        self.father = father\n",
    "        A.__init__(self, grandfather)\n",
    "class C(B):\n",
    "    def __init__(self, me, father, grandfather):\n",
    "        self.me = me\n",
    "        B.__init__(self, father, grandfather)"
   ]
  },
  {
   "cell_type": "code",
   "execution_count": 28,
   "id": "5c938ec2",
   "metadata": {},
   "outputs": [],
   "source": [
    "obj  = C(\"Love-Kush\", \"Ram\", \"Dasharath\")"
   ]
  },
  {
   "cell_type": "code",
   "execution_count": 29,
   "id": "e2ec643f",
   "metadata": {},
   "outputs": [
    {
     "data": {
      "text/plain": [
       "'Love-Kush'"
      ]
     },
     "execution_count": 29,
     "metadata": {},
     "output_type": "execute_result"
    }
   ],
   "source": [
    "obj.me"
   ]
  },
  {
   "cell_type": "code",
   "execution_count": 30,
   "id": "7c74543a",
   "metadata": {},
   "outputs": [
    {
     "data": {
      "text/plain": [
       "'Ram'"
      ]
     },
     "execution_count": 30,
     "metadata": {},
     "output_type": "execute_result"
    }
   ],
   "source": [
    "obj.father"
   ]
  },
  {
   "cell_type": "code",
   "execution_count": 31,
   "id": "9d2c4991",
   "metadata": {},
   "outputs": [
    {
     "data": {
      "text/plain": [
       "'Dasharath'"
      ]
     },
     "execution_count": 31,
     "metadata": {},
     "output_type": "execute_result"
    }
   ],
   "source": [
    "obj.grandfather"
   ]
  },
  {
   "cell_type": "code",
   "execution_count": 32,
   "id": "c9188fde",
   "metadata": {},
   "outputs": [],
   "source": [
    "class A:\n",
    "    def __init__(self, grandfather):\n",
    "        self.grandfather = grandfather\n",
    "class B(A):\n",
    "    def __init__(self, father, grandfather):\n",
    "        self.father = father\n",
    "        super().__init__(grandfather)\n",
    "class C(B):\n",
    "    def __init__(self, me, father, grandfather):\n",
    "        self.me = me\n",
    "        super().__init__(father, grandfather)"
   ]
  },
  {
   "cell_type": "code",
   "execution_count": 33,
   "id": "d936221e",
   "metadata": {},
   "outputs": [],
   "source": [
    "obj1 = C(\"Love-Kush\", \"Ram\", \"Dasharath\")"
   ]
  },
  {
   "cell_type": "code",
   "execution_count": 34,
   "id": "c3d73b7d",
   "metadata": {},
   "outputs": [
    {
     "data": {
      "text/plain": [
       "'Love-Kush'"
      ]
     },
     "execution_count": 34,
     "metadata": {},
     "output_type": "execute_result"
    }
   ],
   "source": [
    "obj1.me"
   ]
  },
  {
   "cell_type": "code",
   "execution_count": 35,
   "id": "000136a4",
   "metadata": {},
   "outputs": [
    {
     "data": {
      "text/plain": [
       "'Ram'"
      ]
     },
     "execution_count": 35,
     "metadata": {},
     "output_type": "execute_result"
    }
   ],
   "source": [
    "obj1.father"
   ]
  },
  {
   "cell_type": "code",
   "execution_count": 36,
   "id": "7d66881c",
   "metadata": {},
   "outputs": [
    {
     "data": {
      "text/plain": [
       "'Dasharath'"
      ]
     },
     "execution_count": 36,
     "metadata": {},
     "output_type": "execute_result"
    }
   ],
   "source": [
    "obj1.grandfather"
   ]
  },
  {
   "cell_type": "code",
   "execution_count": null,
   "id": "e269c5a1",
   "metadata": {},
   "outputs": [],
   "source": []
  }
 ],
 "metadata": {
  "kernelspec": {
   "display_name": "Python 3 (ipykernel)",
   "language": "python",
   "name": "python3"
  },
  "language_info": {
   "codemirror_mode": {
    "name": "ipython",
    "version": 3
   },
   "file_extension": ".py",
   "mimetype": "text/x-python",
   "name": "python",
   "nbconvert_exporter": "python",
   "pygments_lexer": "ipython3",
   "version": "3.11.1"
  }
 },
 "nbformat": 4,
 "nbformat_minor": 5
}
