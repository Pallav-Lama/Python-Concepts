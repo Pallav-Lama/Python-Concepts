{
 "cells": [
  {
   "cell_type": "markdown",
   "id": "d46491b9",
   "metadata": {},
   "source": [
    "# Access specifier is not used in python but use a concept as limiting behvaior"
   ]
  },
  {
   "cell_type": "code",
   "execution_count": 20,
   "id": "ddcf5500",
   "metadata": {},
   "outputs": [],
   "source": [
    "class Tutor:\n",
    "    name = \"Kshitiz\"\n",
    "    # private (__)\n",
    "    __age = 25\n",
    "    #protected(_)\n",
    "    _teach = [\"ML\", \"DL\"]"
   ]
  },
  {
   "cell_type": "code",
   "execution_count": 2,
   "id": "381b4fea",
   "metadata": {},
   "outputs": [],
   "source": [
    "ob = Tutor()"
   ]
  },
  {
   "cell_type": "code",
   "execution_count": 3,
   "id": "6b8d8837",
   "metadata": {},
   "outputs": [
    {
     "data": {
      "text/plain": [
       "'Kshitiz'"
      ]
     },
     "execution_count": 3,
     "metadata": {},
     "output_type": "execute_result"
    }
   ],
   "source": [
    "ob.name"
   ]
  },
  {
   "cell_type": "code",
   "execution_count": 4,
   "id": "bfdf1b21",
   "metadata": {},
   "outputs": [
    {
     "data": {
      "text/plain": [
       "['ML', 'DL']"
      ]
     },
     "execution_count": 4,
     "metadata": {},
     "output_type": "execute_result"
    }
   ],
   "source": [
    "ob._teach"
   ]
  },
  {
   "cell_type": "code",
   "execution_count": 5,
   "id": "dc0f6225",
   "metadata": {},
   "outputs": [
    {
     "ename": "AttributeError",
     "evalue": "'Tutor' object has no attribute '__age'",
     "output_type": "error",
     "traceback": [
      "\u001b[1;31m---------------------------------------------------------------------------\u001b[0m",
      "\u001b[1;31mAttributeError\u001b[0m                            Traceback (most recent call last)",
      "Cell \u001b[1;32mIn[5], line 1\u001b[0m\n\u001b[1;32m----> 1\u001b[0m \u001b[43mob\u001b[49m\u001b[38;5;241;43m.\u001b[39;49m\u001b[43m__age\u001b[49m\n",
      "\u001b[1;31mAttributeError\u001b[0m: 'Tutor' object has no attribute '__age'"
     ]
    }
   ],
   "source": [
    "ob.__age #object cannot get access of private attribute"
   ]
  },
  {
   "cell_type": "code",
   "execution_count": null,
   "id": "3280f571",
   "metadata": {},
   "outputs": [],
   "source": []
  },
  {
   "cell_type": "code",
   "execution_count": null,
   "id": "57b0b4ba",
   "metadata": {},
   "outputs": [],
   "source": []
  }
 ],
 "metadata": {
  "kernelspec": {
   "display_name": "Python 3 (ipykernel)",
   "language": "python",
   "name": "python3"
  },
  "language_info": {
   "codemirror_mode": {
    "name": "ipython",
    "version": 3
   },
   "file_extension": ".py",
   "mimetype": "text/x-python",
   "name": "python",
   "nbconvert_exporter": "python",
   "pygments_lexer": "ipython3",
   "version": "3.11.1"
  }
 },
 "nbformat": 4,
 "nbformat_minor": 5
}
