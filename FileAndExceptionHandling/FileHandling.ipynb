{
 "cells": [
  {
   "cell_type": "code",
   "execution_count": 1,
   "id": "6aec848a",
   "metadata": {},
   "outputs": [],
   "source": [
    "f = open(\"richdadpoordad.txt\", 'r')\n"
   ]
  },
  {
   "cell_type": "markdown",
   "id": "86fe0726",
   "metadata": {},
   "source": [
    "# Syntax of file opening\n",
    "```python\n",
    "open(filename, mode)\n",
    "```"
   ]
  },
  {
   "cell_type": "code",
   "execution_count": 2,
   "id": "632ff35e",
   "metadata": {},
   "outputs": [],
   "source": [
    "text = f.read() #reading file using read() method"
   ]
  },
  {
   "cell_type": "code",
   "execution_count": 3,
   "id": "0362e714",
   "metadata": {},
   "outputs": [
    {
     "data": {
      "text/plain": [
       "'Yo chai rich dad poor dad book ho. Malai yo book ekdam man parcha\\nyo class ma rich dad poor dad Pallav le matra padheko xa rey.\\nyo book kasalai padhna mann lagdaena arey.'"
      ]
     },
     "execution_count": 3,
     "metadata": {},
     "output_type": "execute_result"
    }
   ],
   "source": [
    "text"
   ]
  },
  {
   "cell_type": "code",
   "execution_count": 6,
   "id": "ea564eee",
   "metadata": {},
   "outputs": [
    {
     "name": "stdout",
     "output_type": "stream",
     "text": [
      "Yo chai rich dad poor dad book ho. Malai yo book ekdam man parcha\n",
      "\n"
     ]
    }
   ],
   "source": [
    "f = open(\"richdadpoordad.txt\" , 'r')\n",
    "first_paragraph = f.readline() #only read first paragraph\n",
    "print(first_paragraph)"
   ]
  },
  {
   "cell_type": "code",
   "execution_count": 7,
   "id": "bc5061b4",
   "metadata": {},
   "outputs": [
    {
     "name": "stdout",
     "output_type": "stream",
     "text": [
      "['Yo chai rich dad poor dad book ho. Malai yo book ekdam man parcha\\n', 'yo class ma rich dad poor dad Pallav le matra padheko xa rey.\\n', 'yo book kasalai padhna mann lagdaena arey.']\n"
     ]
    }
   ],
   "source": [
    "f = open(\"richdadpoordad.txt\" , 'r')\n",
    "lines = f.readlines() #each paragraph into list\n",
    "print(lines)"
   ]
  },
  {
   "cell_type": "code",
   "execution_count": 8,
   "id": "3daf7878",
   "metadata": {},
   "outputs": [
    {
     "data": {
      "text/plain": [
       "'Yo chai rich dad poor dad book ho. Malai yo book ekdam man parcha\\n'"
      ]
     },
     "execution_count": 8,
     "metadata": {},
     "output_type": "execute_result"
    }
   ],
   "source": [
    "lines[0]"
   ]
  },
  {
   "cell_type": "code",
   "execution_count": 9,
   "id": "fa903d00",
   "metadata": {},
   "outputs": [
    {
     "data": {
      "text/plain": [
       "'yo class ma rich dad poor dad Pallav le matra padheko xa rey.\\n'"
      ]
     },
     "execution_count": 9,
     "metadata": {},
     "output_type": "execute_result"
    }
   ],
   "source": [
    "lines[1]"
   ]
  },
  {
   "cell_type": "code",
   "execution_count": 10,
   "id": "54a6bcdf",
   "metadata": {},
   "outputs": [
    {
     "data": {
      "text/plain": [
       "'yo book kasalai padhna mann lagdaena arey.'"
      ]
     },
     "execution_count": 10,
     "metadata": {},
     "output_type": "execute_result"
    }
   ],
   "source": [
    "lines[2]"
   ]
  },
  {
   "cell_type": "code",
   "execution_count": 11,
   "id": "6cf03f71",
   "metadata": {},
   "outputs": [
    {
     "data": {
      "text/plain": [
       "3"
      ]
     },
     "execution_count": 11,
     "metadata": {},
     "output_type": "execute_result"
    }
   ],
   "source": [
    "len(lines)"
   ]
  },
  {
   "cell_type": "code",
   "execution_count": 12,
   "id": "b6d4c3a8",
   "metadata": {},
   "outputs": [],
   "source": [
    "f.close() #everytime we open a file, we should close it"
   ]
  },
  {
   "cell_type": "code",
   "execution_count": 13,
   "id": "b321440b",
   "metadata": {},
   "outputs": [
    {
     "name": "stdout",
     "output_type": "stream",
     "text": [
      "Yo chai rich dad poor dad book ho. Malai yo book ekdam man parcha\n",
      "yo class ma rich dad poor dad Pallav le matra padheko xa rey.\n",
      "yo book kasalai padhna mann lagdaena arey.\n"
     ]
    }
   ],
   "source": [
    "# alternative syntax\n",
    "with open(\"richdadpoordad.txt\", 'r') as f:\n",
    "    text = f.read()\n",
    "print(text)"
   ]
  },
  {
   "cell_type": "markdown",
   "id": "62c14f54",
   "metadata": {},
   "source": [
    "## Write on file"
   ]
  },
  {
   "cell_type": "code",
   "execution_count": 15,
   "id": "76daf4b9",
   "metadata": {},
   "outputs": [],
   "source": [
    "# write mode creates a new file if file does not exist\n",
    "with open(\"How to make friends.txt\", 'w') as f:\n",
    "    f.write(\"This is one of the best book\")"
   ]
  },
  {
   "cell_type": "code",
   "execution_count": 17,
   "id": "ddbf3ccf",
   "metadata": {},
   "outputs": [
    {
     "name": "stdout",
     "output_type": "stream",
     "text": [
      "This is one of the best book\n"
     ]
    }
   ],
   "source": [
    "with open(\"How to make friends.txt\", 'r') as f:\n",
    "    print(f.read())"
   ]
  },
  {
   "cell_type": "code",
   "execution_count": 18,
   "id": "c21a6737",
   "metadata": {},
   "outputs": [],
   "source": [
    "#if already file exist and we try to open the file in write mode, the file will be overwritten\n",
    "with open(\"How to make friends.txt\", 'w') as f:\n",
    "    f.write(\"This book helps to imporove your communication\")"
   ]
  },
  {
   "cell_type": "code",
   "execution_count": 19,
   "id": "86d2bb05",
   "metadata": {},
   "outputs": [
    {
     "name": "stdout",
     "output_type": "stream",
     "text": [
      "This book helps to imporove your communication\n"
     ]
    }
   ],
   "source": [
    "with open(\"How to make friends.txt\", 'r') as f:\n",
    "    print(f.read())"
   ]
  },
  {
   "cell_type": "markdown",
   "id": "95b0b25e",
   "metadata": {},
   "source": [
    "# Append mode in file handling\n",
    "- if file doesnot exist, creates a new file\n",
    "- if exist adds new line"
   ]
  },
  {
   "cell_type": "code",
   "execution_count": 20,
   "id": "6118a0f2",
   "metadata": {},
   "outputs": [],
   "source": [
    "with open(\"Ezoria.txt\", 'a') as f:\n",
    "    f.write(\"This file did not exist, but new file is created\")"
   ]
  },
  {
   "cell_type": "code",
   "execution_count": 22,
   "id": "448e13ad",
   "metadata": {},
   "outputs": [
    {
     "name": "stdout",
     "output_type": "stream",
     "text": [
      "This file didnot exist, but new file is created\n"
     ]
    }
   ],
   "source": [
    "with open(\"Ezoria.txt\", 'r') as f:\n",
    "    print(f.read())"
   ]
  },
  {
   "cell_type": "code",
   "execution_count": 23,
   "id": "981b10e4",
   "metadata": {},
   "outputs": [],
   "source": [
    "with open(\"Ezoria.txt\", 'a') as f:\n",
    "    f.write(\"This line is added at last of the sentence without deleting the old data\")"
   ]
  },
  {
   "cell_type": "code",
   "execution_count": 24,
   "id": "99c06d40",
   "metadata": {},
   "outputs": [
    {
     "name": "stdout",
     "output_type": "stream",
     "text": [
      "This file didnot exist, but new file is createdThis line is added at last of the sentence without deleting the old data\n"
     ]
    }
   ],
   "source": [
    "with open(\"Ezoria.txt\", 'r') as f:\n",
    "    print(f.read())"
   ]
  },
  {
   "cell_type": "markdown",
   "id": "c8f084c7",
   "metadata": {},
   "source": [
    "# Assignment Create mode (x)"
   ]
  },
  {
   "cell_type": "code",
   "execution_count": 25,
   "id": "5971b10d",
   "metadata": {},
   "outputs": [],
   "source": [
    "f =  open(\"Create.txt\", 'x')"
   ]
  },
  {
   "cell_type": "markdown",
   "id": "dc2bd239",
   "metadata": {},
   "source": [
    "# Introduction to os library"
   ]
  },
  {
   "cell_type": "code",
   "execution_count": 2,
   "id": "46dd1689",
   "metadata": {},
   "outputs": [],
   "source": [
    "import os"
   ]
  },
  {
   "cell_type": "code",
   "execution_count": 27,
   "id": "70435ca6",
   "metadata": {},
   "outputs": [
    {
     "data": {
      "text/plain": [
       "['.ipynb_checkpoints',\n",
       " 'Create.txt',\n",
       " 'EceptionalHandling.ipynb',\n",
       " 'Ezoria.txt',\n",
       " 'FileHandling.ipynb',\n",
       " 'How to make friends.txt',\n",
       " 'richdadpoordad.txt',\n",
       " 'Untitled.ipynb']"
      ]
     },
     "execution_count": 27,
     "metadata": {},
     "output_type": "execute_result"
    }
   ],
   "source": [
    "os.listdir() #list all the files in the current directory"
   ]
  },
  {
   "cell_type": "code",
   "execution_count": 28,
   "id": "c2ca48a8",
   "metadata": {},
   "outputs": [],
   "source": [
    "BASEPATH = os.getcwd() #GET current Directory"
   ]
  },
  {
   "cell_type": "code",
   "execution_count": 29,
   "id": "b999d9c9",
   "metadata": {},
   "outputs": [
    {
     "data": {
      "text/plain": [
       "'D:\\\\Class\\\\FileAndExceptionHandling'"
      ]
     },
     "execution_count": 29,
     "metadata": {},
     "output_type": "execute_result"
    }
   ],
   "source": [
    "BASEPATH"
   ]
  },
  {
   "cell_type": "code",
   "execution_count": 31,
   "id": "d3b655e5",
   "metadata": {},
   "outputs": [
    {
     "data": {
      "text/plain": [
       "True"
      ]
     },
     "execution_count": 31,
     "metadata": {},
     "output_type": "execute_result"
    }
   ],
   "source": [
    "# find if file exist on current directory or not\n",
    "os.path.exists(\"Ezoria.txt\")"
   ]
  },
  {
   "cell_type": "code",
   "execution_count": 32,
   "id": "c9797dd2",
   "metadata": {},
   "outputs": [
    {
     "data": {
      "text/plain": [
       "False"
      ]
     },
     "execution_count": 32,
     "metadata": {},
     "output_type": "execute_result"
    }
   ],
   "source": [
    "os.path.exists(\"nonexistedfile.txt\")"
   ]
  },
  {
   "cell_type": "code",
   "execution_count": 3,
   "id": "2c928013",
   "metadata": {},
   "outputs": [
    {
     "name": "stdout",
     "output_type": "stream",
     "text": [
      "File removed...\n"
     ]
    }
   ],
   "source": [
    "#if file exist delete it\n",
    "if os.path.exists(\"Create.txt\"):\n",
    "    os.remove(\"Create.txt\")\n",
    "    print(\"File removed...\")"
   ]
  },
  {
   "cell_type": "code",
   "execution_count": 4,
   "id": "b8bb4000",
   "metadata": {},
   "outputs": [
    {
     "data": {
      "text/plain": [
       "False"
      ]
     },
     "execution_count": 4,
     "metadata": {},
     "output_type": "execute_result"
    }
   ],
   "source": [
    "os.path.exists(\"Create.txt\")"
   ]
  },
  {
   "cell_type": "code",
   "execution_count": null,
   "id": "052ecd5f",
   "metadata": {},
   "outputs": [],
   "source": []
  }
 ],
 "metadata": {
  "kernelspec": {
   "display_name": "Python 3 (ipykernel)",
   "language": "python",
   "name": "python3"
  },
  "language_info": {
   "codemirror_mode": {
    "name": "ipython",
    "version": 3
   },
   "file_extension": ".py",
   "mimetype": "text/x-python",
   "name": "python",
   "nbconvert_exporter": "python",
   "pygments_lexer": "ipython3",
   "version": "3.11.1"
  }
 },
 "nbformat": 4,
 "nbformat_minor": 5
}
