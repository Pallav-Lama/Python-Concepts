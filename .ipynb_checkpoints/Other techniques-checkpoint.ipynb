{
 "cells": [
  {
   "cell_type": "code",
   "execution_count": 1,
   "id": "ed632602",
   "metadata": {},
   "outputs": [],
   "source": [
    "nums = [3, 4, 5, 6, 3, 2, 2]"
   ]
  },
  {
   "cell_type": "code",
   "execution_count": 3,
   "id": "a5cbf018",
   "metadata": {},
   "outputs": [],
   "source": [
    "x = 0\n",
    "for i in nums:\n",
    "    x += i\n",
    "mean = x/len(nums)"
   ]
  },
  {
   "cell_type": "code",
   "execution_count": 4,
   "id": "e51e2ba5",
   "metadata": {},
   "outputs": [
    {
     "data": {
      "text/plain": [
       "3.5714285714285716"
      ]
     },
     "execution_count": 4,
     "metadata": {},
     "output_type": "execute_result"
    }
   ],
   "source": [
    "mean"
   ]
  },
  {
   "cell_type": "code",
   "execution_count": 7,
   "id": "00b9af9c",
   "metadata": {},
   "outputs": [],
   "source": [
    "x = 0\n",
    "for i in range(len(nums)):\n",
    "    x += nums[i]\n",
    "mean = x/len(nums)"
   ]
  },
  {
   "cell_type": "code",
   "execution_count": 8,
   "id": "83969166",
   "metadata": {},
   "outputs": [
    {
     "data": {
      "text/plain": [
       "3.5714285714285716"
      ]
     },
     "execution_count": 8,
     "metadata": {},
     "output_type": "execute_result"
    }
   ],
   "source": [
    "mean"
   ]
  },
  {
   "cell_type": "markdown",
   "id": "a26d9a56",
   "metadata": {},
   "source": [
    "## While loop\n",
    "```python\n",
    "while True:\n",
    "    #while block\n",
    "```"
   ]
  },
  {
   "cell_type": "code",
   "execution_count": 9,
   "id": "00dd939f",
   "metadata": {},
   "outputs": [],
   "source": [
    "total = 0\n",
    "index = 0\n",
    "while index < len(nums):\n",
    "    item = nums[index]\n",
    "    total = total + item\n",
    "    index += 1"
   ]
  },
  {
   "cell_type": "code",
   "execution_count": 10,
   "id": "329d1495",
   "metadata": {},
   "outputs": [
    {
     "data": {
      "text/plain": [
       "25"
      ]
     },
     "execution_count": 10,
     "metadata": {},
     "output_type": "execute_result"
    }
   ],
   "source": [
    "total"
   ]
  },
  {
   "cell_type": "code",
   "execution_count": 11,
   "id": "607bef2f",
   "metadata": {},
   "outputs": [],
   "source": [
    "mean= total/len(nums)"
   ]
  },
  {
   "cell_type": "code",
   "execution_count": 12,
   "id": "75e4f88d",
   "metadata": {},
   "outputs": [
    {
     "data": {
      "text/plain": [
       "3.5714285714285716"
      ]
     },
     "execution_count": 12,
     "metadata": {},
     "output_type": "execute_result"
    }
   ],
   "source": [
    "mean"
   ]
  },
  {
   "cell_type": "markdown",
   "id": "3ee3d825",
   "metadata": {},
   "source": [
    "## Nested for loop"
   ]
  },
  {
   "cell_type": "code",
   "execution_count": 14,
   "id": "a36992f5",
   "metadata": {},
   "outputs": [
    {
     "name": "stdout",
     "output_type": "stream",
     "text": [
      "----------\n",
      "i = 0\n",
      "----------\n",
      "j =  0\n",
      "j =  1\n",
      "j =  2\n",
      "----------\n",
      "i = 1\n",
      "----------\n",
      "j =  0\n",
      "j =  1\n",
      "j =  2\n",
      "----------\n",
      "i = 2\n",
      "----------\n",
      "j =  0\n",
      "j =  1\n",
      "j =  2\n",
      "----------\n",
      "i = 3\n",
      "----------\n",
      "j =  0\n",
      "j =  1\n",
      "j =  2\n",
      "----------\n",
      "i = 4\n",
      "----------\n",
      "j =  0\n",
      "j =  1\n",
      "j =  2\n"
     ]
    }
   ],
   "source": [
    "for i in range(5):\n",
    "    print(\"----------\")\n",
    "    print(\"i =\", i)\n",
    "    print(\"----------\")\n",
    "    for j in range(3):\n",
    "        print(\"j = \", j)"
   ]
  },
  {
   "cell_type": "code",
   "execution_count": 15,
   "id": "04e7a698",
   "metadata": {},
   "outputs": [],
   "source": [
    "nums = [[2, 3, 1], [8, 5, 7, 7], [2, 4]]"
   ]
  },
  {
   "cell_type": "code",
   "execution_count": 16,
   "id": "ce8dec3a",
   "metadata": {},
   "outputs": [],
   "source": [
    "all_mean = list()\n",
    "for item in nums:\n",
    "    total = 0\n",
    "    for dp in item:\n",
    "        total += dp\n",
    "    mean = total/len(item)\n",
    "    all_mean.append(mean)"
   ]
  },
  {
   "cell_type": "code",
   "execution_count": 17,
   "id": "2e89ea26",
   "metadata": {},
   "outputs": [
    {
     "data": {
      "text/plain": [
       "[2.0, 6.75, 3.0]"
      ]
     },
     "execution_count": 17,
     "metadata": {},
     "output_type": "execute_result"
    }
   ],
   "source": [
    "all_mean"
   ]
  },
  {
   "cell_type": "code",
   "execution_count": 18,
   "id": "5abe44e3",
   "metadata": {},
   "outputs": [],
   "source": [
    "#iterators and generators"
   ]
  },
  {
   "cell_type": "code",
   "execution_count": 19,
   "id": "c2ca0ae6",
   "metadata": {},
   "outputs": [],
   "source": [
    "#dataclass, decorators"
   ]
  },
  {
   "cell_type": "code",
   "execution_count": 20,
   "id": "7b1de540",
   "metadata": {},
   "outputs": [],
   "source": [
    "#lambda function"
   ]
  },
  {
   "cell_type": "markdown",
   "id": "2bf62383",
   "metadata": {},
   "source": [
    "## anonymous function/lambda function"
   ]
  },
  {
   "cell_type": "code",
   "execution_count": 22,
   "id": "fe44c32c",
   "metadata": {},
   "outputs": [],
   "source": [
    "def sq(x):\n",
    "    return x**2"
   ]
  },
  {
   "cell_type": "code",
   "execution_count": 23,
   "id": "323bb13c",
   "metadata": {},
   "outputs": [
    {
     "data": {
      "text/plain": [
       "64"
      ]
     },
     "execution_count": 23,
     "metadata": {},
     "output_type": "execute_result"
    }
   ],
   "source": [
    "sq(8)"
   ]
  },
  {
   "cell_type": "code",
   "execution_count": 24,
   "id": "f5d973a4",
   "metadata": {},
   "outputs": [],
   "source": [
    "cube = lambda x: x**3 #lambda argement: return expression"
   ]
  },
  {
   "cell_type": "code",
   "execution_count": 25,
   "id": "8a5a4ff0",
   "metadata": {},
   "outputs": [
    {
     "data": {
      "text/plain": [
       "64"
      ]
     },
     "execution_count": 25,
     "metadata": {},
     "output_type": "execute_result"
    }
   ],
   "source": [
    "cube(4)"
   ]
  },
  {
   "cell_type": "markdown",
   "id": "05d4516b",
   "metadata": {},
   "source": [
    "## Filter and map"
   ]
  },
  {
   "cell_type": "code",
   "execution_count": 26,
   "id": "5d9e7406",
   "metadata": {},
   "outputs": [],
   "source": [
    "fil = filter(lambda x:x%2==0, range(1, 10))"
   ]
  },
  {
   "cell_type": "code",
   "execution_count": 27,
   "id": "0663865a",
   "metadata": {},
   "outputs": [
    {
     "data": {
      "text/plain": [
       "[2, 4, 6, 8]"
      ]
     },
     "execution_count": 27,
     "metadata": {},
     "output_type": "execute_result"
    }
   ],
   "source": [
    "list(fil)"
   ]
  },
  {
   "cell_type": "code",
   "execution_count": 31,
   "id": "adbc81c3",
   "metadata": {},
   "outputs": [
    {
     "data": {
      "text/plain": [
       "[1, 3, 5, 7, 9]"
      ]
     },
     "execution_count": 31,
     "metadata": {},
     "output_type": "execute_result"
    }
   ],
   "source": [
    "list(filter(lambda x:x% 2 != 0, range(1, 10)))"
   ]
  },
  {
   "cell_type": "markdown",
   "id": "95307756",
   "metadata": {},
   "source": [
    "# map"
   ]
  },
  {
   "cell_type": "code",
   "execution_count": 32,
   "id": "b7f794dd",
   "metadata": {},
   "outputs": [],
   "source": [
    "sq = lambda x: x**2"
   ]
  },
  {
   "cell_type": "code",
   "execution_count": 33,
   "id": "9caab153",
   "metadata": {},
   "outputs": [
    {
     "data": {
      "text/plain": [
       "[9, 16, 25, 36]"
      ]
     },
     "execution_count": 33,
     "metadata": {},
     "output_type": "execute_result"
    }
   ],
   "source": [
    "list(map(sq, [3, 4, 5, 6]))"
   ]
  },
  {
   "cell_type": "code",
   "execution_count": 34,
   "id": "d90c2dff",
   "metadata": {},
   "outputs": [],
   "source": [
    "def cube (x):\n",
    "    return x**3"
   ]
  },
  {
   "cell_type": "code",
   "execution_count": 35,
   "id": "8b075b79",
   "metadata": {},
   "outputs": [
    {
     "data": {
      "text/plain": [
       "[1, 8, 27]"
      ]
     },
     "execution_count": 35,
     "metadata": {},
     "output_type": "execute_result"
    }
   ],
   "source": [
    "list(map(cube, [1, 2, 3]))"
   ]
  },
  {
   "cell_type": "code",
   "execution_count": 44,
   "id": "a348fa30",
   "metadata": {},
   "outputs": [],
   "source": [
    "bike = [[\"hero\", \"honda\", \"duke\", \"r15\", \"pulsar\"]]"
   ]
  },
  {
   "cell_type": "code",
   "execution_count": 46,
   "id": "feb97475",
   "metadata": {},
   "outputs": [
    {
     "data": {
      "text/plain": [
       "[['honda', 'r15']]"
      ]
     },
     "execution_count": 46,
     "metadata": {},
     "output_type": "execute_result"
    }
   ],
   "source": [
    "list(map(lambda x: x[1:2] + [x[3]], bike))"
   ]
  },
  {
   "cell_type": "code",
   "execution_count": 48,
   "id": "049c41e9",
   "metadata": {},
   "outputs": [],
   "source": [
    "bike = [\"hero\", \"honda\", \"duke\", \"r15\", \"pulsar\"]"
   ]
  },
  {
   "cell_type": "code",
   "execution_count": 51,
   "id": "d55eecdc",
   "metadata": {},
   "outputs": [
    {
     "data": {
      "text/plain": [
       "['er', 'on', 'uk', '15', 'ul']"
      ]
     },
     "execution_count": 51,
     "metadata": {},
     "output_type": "execute_result"
    }
   ],
   "source": [
    "list(map(lambda x:x[1] + x[2], bike))"
   ]
  },
  {
   "cell_type": "code",
   "execution_count": 57,
   "id": "64e287f3",
   "metadata": {},
   "outputs": [
    {
     "name": "stdout",
     "output_type": "stream",
     "text": [
      "CPU times: total: 0 ns\n",
      "Wall time: 2.2 ms\n"
     ]
    }
   ],
   "source": [
    "%%time\n",
    "dp = lambda x:x\n",
    "for item in range(10000):\n",
    "    dp(item)"
   ]
  },
  {
   "cell_type": "code",
   "execution_count": 58,
   "id": "7425c5c3",
   "metadata": {},
   "outputs": [
    {
     "name": "stdout",
     "output_type": "stream",
     "text": [
      "CPU times: total: 0 ns\n",
      "Wall time: 106 µs\n"
     ]
    },
    {
     "data": {
      "text/plain": [
       "<map at 0x2cfdd2fcee0>"
      ]
     },
     "execution_count": 58,
     "metadata": {},
     "output_type": "execute_result"
    }
   ],
   "source": [
    "%time map(lambda x:x, range(10000))"
   ]
  },
  {
   "cell_type": "code",
   "execution_count": null,
   "id": "d117ca34",
   "metadata": {},
   "outputs": [],
   "source": []
  }
 ],
 "metadata": {
  "kernelspec": {
   "display_name": "Python 3 (ipykernel)",
   "language": "python",
   "name": "python3"
  },
  "language_info": {
   "codemirror_mode": {
    "name": "ipython",
    "version": 3
   },
   "file_extension": ".py",
   "mimetype": "text/x-python",
   "name": "python",
   "nbconvert_exporter": "python",
   "pygments_lexer": "ipython3",
   "version": "3.11.1"
  }
 },
 "nbformat": 4,
 "nbformat_minor": 5
}
